{
 "cells": [
  {
   "cell_type": "code",
   "execution_count": 1,
   "metadata": {},
   "outputs": [
    {
     "name": "stdout",
     "output_type": "stream",
     "text": [
      "Mejor alpha encontrado: 0.01\n",
      "📊 MAE:  3756.90 USD\n",
      "📉 RMSE: 5343.57 USD\n",
      "📈 R²:   0.7469\n"
     ]
    }
   ],
   "source": [
    "import pandas as pd\n",
    "import numpy as np\n",
    "from sklearn.model_selection import train_test_split, GridSearchCV\n",
    "from sklearn.linear_model import Ridge\n",
    "from sklearn.metrics import mean_absolute_error, mean_squared_error, r2_score\n",
    "\n",
    "df_basico = pd.read_csv(\"../dataset_basico.csv\")\n",
    "\n",
    "\n",
    "\n",
    "# --- 1. Separar variables independientes y dependientes ---\n",
    "X = df_basico.drop(columns=[\"Precio_usd\"]).values\n",
    "y = df_basico[\"Precio_usd\"].values\n",
    "\n",
    "# --- 2. Separar train/validación ---\n",
    "X_basico, X_basico_val, y_basico, y_basico_val = train_test_split(X, y, test_size=0.2, random_state=42)\n",
    "\n",
    "# --- 3. Definir modelo base ---\n",
    "modelo_basico = Ridge()\n",
    "\n",
    "# --- 4. Búsqueda de hiperparámetros ---\n",
    "param_grid = {\n",
    "    \"alpha\": [0.01, 0.1, 1, 10, 100]\n",
    "}\n",
    "\n",
    "grid_search = GridSearchCV(modelo_basico, param_grid, cv=5, scoring=\"neg_mean_squared_error\")\n",
    "grid_search.fit(X_basico, y_basico)\n",
    "\n",
    "# --- 5. Mejor modelo ---\n",
    "mejor_modelo_basico = grid_search.best_estimator_\n",
    "print(f\"Mejor alpha encontrado: {grid_search.best_params_['alpha']}\")\n",
    "\n",
    "# --- 6. Predicción sobre validación ---\n",
    "y_pred = mejor_modelo_basico.predict(X_basico_val)\n",
    "\n",
    "# --- 7. Métricas ---\n",
    "mae = mean_absolute_error(y_basico_val, y_pred)\n",
    "rmse = np.sqrt(mean_squared_error(y_basico_val, y_pred))\n",
    "r2 = r2_score(y_basico_val, y_pred)\n",
    "\n",
    "print(f\"📊 MAE:  {mae:.2f} USD\")\n",
    "print(f\"📉 RMSE: {rmse:.2f} USD\")\n",
    "print(f\"📈 R²:   {r2:.4f}\")\n"
   ]
  },
  {
   "cell_type": "code",
   "execution_count": 2,
   "metadata": {},
   "outputs": [
    {
     "name": "stdout",
     "output_type": "stream",
     "text": [
      "Mejor alpha encontrado: 0.1\n",
      "📊 MAE:  3112.29 USD\n",
      "📉 RMSE: 4399.84 USD\n",
      "📈 R²:   0.8307\n"
     ]
    }
   ],
   "source": [
    "df_intermedio = pd.read_csv(\"../intermedio_sin_outliers.csv\")\n",
    "\n",
    "# --- 1. Separar variables independientes y dependientes ---\n",
    "X = df_intermedio.drop(columns=[\"Precio_usd\"]).values\n",
    "y = df_intermedio[\"Precio_usd\"].values\n",
    "\n",
    "# --- 2. Separar train/validación ---\n",
    "X_inter, X_inter_val, y_inter, y_inter_val = train_test_split(X, y, test_size=0.2, random_state=42)\n",
    "\n",
    "# --- 3. Definir modelo base ---\n",
    "modelo_inter = Ridge()\n",
    "\n",
    "# --- 4. Búsqueda de hiperparámetros ---\n",
    "param_grid = {\n",
    "    \"alpha\": [0.01, 0.1, 1, 10, 100]\n",
    "}\n",
    "\n",
    "grid_search = GridSearchCV(modelo_inter, param_grid, cv=5, scoring=\"neg_mean_squared_error\")\n",
    "grid_search.fit(X_inter, y_inter)\n",
    "\n",
    "# --- 5. Mejor modelo ---\n",
    "mejor_modelo_inter = grid_search.best_estimator_\n",
    "print(f\"Mejor alpha encontrado: {grid_search.best_params_['alpha']}\")\n",
    "\n",
    "# --- 6. Predicción sobre validación ---\n",
    "y_pred = mejor_modelo_inter.predict(X_inter_val)\n",
    "\n",
    "# --- 7. Métricas ---\n",
    "mae = mean_absolute_error(y_inter_val, y_pred)\n",
    "rmse = np.sqrt(mean_squared_error(y_inter_val, y_pred))\n",
    "r2 = r2_score(y_inter_val, y_pred)\n",
    "\n",
    "print(f\"📊 MAE:  {mae:.2f} USD\")\n",
    "print(f\"📉 RMSE: {rmse:.2f} USD\")\n",
    "print(f\"📈 R²:   {r2:.4f}\")\n"
   ]
  },
  {
   "cell_type": "code",
   "execution_count": 3,
   "metadata": {},
   "outputs": [
    {
     "name": "stdout",
     "output_type": "stream",
     "text": [
      "Mejor alpha encontrado: 0.1\n",
      "📊 MAE:  3606.99 USD\n",
      "📉 RMSE: 4956.91 USD\n",
      "📈 R²:   0.7851\n"
     ]
    }
   ],
   "source": [
    "df_final = pd.read_csv(\"../dataset_final.csv\")\n",
    "\n",
    "# --- 1. Separar variables independientes y dependientes ---\n",
    "X = df_final.drop(columns=[\"Precio_usd\"]).values\n",
    "y = df_final[\"Precio_usd\"].values\n",
    "\n",
    "# --- 2. Separar train/validación ---\n",
    "X_final, X_final_val, y_final, y_final_val = train_test_split(X, y, test_size=0.2, random_state=42)\n",
    "\n",
    "# --- 3. Definir modelo base ---\n",
    "modelo_final = Ridge()\n",
    "\n",
    "# --- 4. Búsqueda de hiperparámetros ---\n",
    "param_grid = {\n",
    "    \"alpha\": [0.01, 0.1, 1, 10, 100]\n",
    "}\n",
    "\n",
    "grid_search = GridSearchCV(modelo_final, param_grid, cv=5, scoring=\"neg_mean_squared_error\")\n",
    "grid_search.fit(X_final, y_final)\n",
    "\n",
    "# --- 5. Mejor modelo ---\n",
    "mejor_modelo_final = grid_search.best_estimator_\n",
    "print(f\"Mejor alpha encontrado: {grid_search.best_params_['alpha']}\")\n",
    "\n",
    "# --- 6. Predicción sobre validación ---\n",
    "y_pred = mejor_modelo_final.predict(X_final_val)\n",
    "\n",
    "# --- 7. Métricas ---\n",
    "mae = mean_absolute_error(y_final_val, y_pred)\n",
    "rmse = np.sqrt(mean_squared_error(y_final_val, y_pred))\n",
    "r2 = r2_score(y_final_val, y_pred)\n",
    "\n",
    "print(f\"📊 MAE:  {mae:.2f} USD\")\n",
    "print(f\"📉 RMSE: {rmse:.2f} USD\")\n",
    "print(f\"📈 R²:   {r2:.4f}\")\n"
   ]
  },
  {
   "cell_type": "code",
   "execution_count": 4,
   "metadata": {},
   "outputs": [],
   "source": [
    "df_test = pd.read_csv(\"../pf_dataset_test_final.csv\")\n",
    "df_test = df_test.drop(columns=['Combustible_Diésel.1'], errors='ignore')"
   ]
  },
  {
   "cell_type": "code",
   "execution_count": 5,
   "metadata": {},
   "outputs": [
    {
     "name": "stderr",
     "output_type": "stream",
     "text": [
      "/Users/matiaslein/Library/Python/3.9/lib/python/site-packages/sklearn/utils/validation.py:2732: UserWarning: X has feature names, but Ridge was fitted without feature names\n",
      "  warnings.warn(\n"
     ]
    }
   ],
   "source": [
    "#Uso el modelo intermedio que es el que mejor metricas tiene\n",
    "pred_test = mejor_modelo_inter.predict(df_test)"
   ]
  },
  {
   "cell_type": "code",
   "execution_count": 6,
   "metadata": {},
   "outputs": [],
   "source": [
    "#Guardar las predicciones\n",
    "pred_df = pd.DataFrame(pred_test, columns=[\"Precio_usd_predicho\"])\n",
    "pred_df.to_csv(\"predicciones_linear_reg.csv\", index=False)"
   ]
  }
 ],
 "metadata": {
  "kernelspec": {
   "display_name": "Python 3",
   "language": "python",
   "name": "python3"
  },
  "language_info": {
   "codemirror_mode": {
    "name": "ipython",
    "version": 3
   },
   "file_extension": ".py",
   "mimetype": "text/x-python",
   "name": "python",
   "nbconvert_exporter": "python",
   "pygments_lexer": "ipython3",
   "version": "3.9.6"
  }
 },
 "nbformat": 4,
 "nbformat_minor": 2
}
