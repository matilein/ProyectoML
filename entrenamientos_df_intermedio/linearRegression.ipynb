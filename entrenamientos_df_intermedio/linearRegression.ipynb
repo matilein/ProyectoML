{
 "cells": [
  {
   "cell_type": "code",
   "execution_count": 1,
   "metadata": {},
   "outputs": [
    {
     "name": "stdout",
     "output_type": "stream",
     "text": [
      "Current working directory: c:\\Users\\andyd\\Udesa\\Machine Learning\\Proyecto-final-ML\\entrenamientos_df_intermedio\n"
     ]
    }
   ],
   "source": [
    "import pandas as pd\n",
    "from sklearn.model_selection import train_test_split\n",
    "from sklearn.linear_model import LinearRegression\n",
    "from sklearn.metrics import (\n",
    "    mean_absolute_error, mean_squared_error, r2_score, median_absolute_error\n",
    ")\n",
    "import numpy as np\n",
    "import matplotlib.pyplot as plt\n",
    "import seaborn as sns\n",
    "import os\n",
    "from sklearn.linear_model import Ridge\n",
    "\n",
    "print(\"Current working directory:\", os.getcwd())"
   ]
  },
  {
   "cell_type": "code",
   "execution_count": 2,
   "metadata": {},
   "outputs": [],
   "source": [
    "\n",
    "# Dataset\n",
    "df = pd.read_csv('../datasetintermedio.csv')\n",
    "y = df['Precio_usd']\n",
    "X = df.drop(columns=['Precio_usd'])\n",
    "\n",
    "# Manejo de NaN\n",
    "X = X.fillna(X.median())\n",
    "\n",
    "# Split\n",
    "from sklearn.model_selection import train_test_split\n",
    "X_train, X_test, y_train, y_test = train_test_split(X, y, test_size=0.2, random_state=42)"
   ]
  },
  {
   "cell_type": "code",
   "execution_count": null,
   "metadata": {},
   "outputs": [],
   "source": []
  },
  {
   "cell_type": "code",
   "execution_count": null,
   "metadata": {},
   "outputs": [
    {
     "ename": "NameError",
     "evalue": "name 'make_pipeline' is not defined",
     "output_type": "error",
     "traceback": [
      "\u001b[1;31m---------------------------------------------------------------------------\u001b[0m",
      "\u001b[1;31mNameError\u001b[0m                                 Traceback (most recent call last)",
      "Cell \u001b[1;32mIn[3], line 3\u001b[0m\n\u001b[0;32m      1\u001b[0m \u001b[38;5;66;03m# Modelos\u001b[39;00m\n\u001b[0;32m      2\u001b[0m modelos \u001b[38;5;241m=\u001b[39m {\n\u001b[1;32m----> 3\u001b[0m     \u001b[38;5;124m'\u001b[39m\u001b[38;5;124mLinearRegression\u001b[39m\u001b[38;5;124m'\u001b[39m: \u001b[43mmake_pipeline\u001b[49m(StandardScaler(), LinearRegression()),\n\u001b[0;32m      4\u001b[0m     \u001b[38;5;124m'\u001b[39m\u001b[38;5;124mRidge\u001b[39m\u001b[38;5;124m'\u001b[39m: make_pipeline(StandardScaler(), Ridge(alpha\u001b[38;5;241m=\u001b[39m\u001b[38;5;241m1.0\u001b[39m)),\n\u001b[0;32m      5\u001b[0m     \u001b[38;5;124m'\u001b[39m\u001b[38;5;124mLasso\u001b[39m\u001b[38;5;124m'\u001b[39m: make_pipeline(StandardScaler(), Lasso(alpha\u001b[38;5;241m=\u001b[39m\u001b[38;5;241m0.5\u001b[39m, max_iter\u001b[38;5;241m=\u001b[39m\u001b[38;5;241m10000\u001b[39m))\n\u001b[0;32m      6\u001b[0m }\n\u001b[0;32m      8\u001b[0m \u001b[38;5;66;03m# Evaluación\u001b[39;00m\n\u001b[0;32m      9\u001b[0m \u001b[38;5;28;01mfor\u001b[39;00m nombre, modelo \u001b[38;5;129;01min\u001b[39;00m modelos\u001b[38;5;241m.\u001b[39mitems():\n",
      "\u001b[1;31mNameError\u001b[0m: name 'make_pipeline' is not defined"
     ]
    }
   ],
   "source": [
    "\n",
    "\n",
    "\n",
    "# Modelos\n",
    "modelos = {\n",
    "    'LinearRegression': make_pipeline(StandardScaler(), LinearRegression()),\n",
    "    'Ridge': make_pipeline(StandardScaler(), Ridge(alpha=1.0)),\n",
    "    'Lasso': make_pipeline(StandardScaler(), Lasso(alpha=0.5, max_iter=10000))\n",
    "}\n",
    "\n",
    "# Evaluación\n",
    "for nombre, modelo in modelos.items():\n",
    "    modelo.fit(X_train, y_train)\n",
    "    y_pred = modelo.predict(X_test)\n",
    "\n",
    "    mae = mean_absolute_error(y_test, y_pred)\n",
    "    rmse = np.sqrt(mean_squared_error(y_test, y_pred))\n",
    "    r2 = r2_score(y_test, y_pred)\n",
    "    mape = np.mean(np.abs((y_test - y_pred) / y_test)) * 100\n",
    "    medae = median_absolute_error(y_test, y_pred)\n",
    "\n",
    "    print(f\"\\n📊 Modelo: {nombre}\")\n",
    "    print(f\"MAE:    ${mae:,.0f}\")\n",
    "    print(f\"MedAE:  ${medae:,.0f}\")\n",
    "    print(f\"RMSE:   ${rmse:,.0f}\")\n",
    "    print(f\"R²:     {r2:.3f}\")\n",
    "    print(f\"MAPE:   {mape:.2f}%\")\n",
    "\n",
    "    # Mostrar top 5 coeficientes\n",
    "    coef_model = modelo.named_steps[nombre.lower()]\n",
    "    coefs = coef_model.coef_\n",
    "    top = pd.Series(coefs, index=X.columns).sort_values(ascending=False)\n",
    "    print(\"Top + features:\", list(top.head(3).index))\n",
    "    print(\"Top - features:\", list(top.tail(3).index))"
   ]
  },
  {
   "cell_type": "code",
   "execution_count": 19,
   "metadata": {},
   "outputs": [
    {
     "name": "stdout",
     "output_type": "stream",
     "text": [
      "count     18254.000000\n",
      "mean      27852.262131\n",
      "std       20317.490113\n",
      "min         102.145923\n",
      "25%       16309.012876\n",
      "50%       23690.987124\n",
      "75%       32698.819742\n",
      "max      610000.000000\n",
      "Name: Precio_usd, dtype: float64\n"
     ]
    }
   ],
   "source": [
    "print(df['Precio_usd'].describe())"
   ]
  }
 ],
 "metadata": {
  "kernelspec": {
   "display_name": "myenv",
   "language": "python",
   "name": "python3"
  },
  "language_info": {
   "codemirror_mode": {
    "name": "ipython",
    "version": 3
   },
   "file_extension": ".py",
   "mimetype": "text/x-python",
   "name": "python",
   "nbconvert_exporter": "python",
   "pygments_lexer": "ipython3",
   "version": "3.12.4"
  }
 },
 "nbformat": 4,
 "nbformat_minor": 2
}
